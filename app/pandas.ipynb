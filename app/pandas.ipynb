{
 "cells": [
  {
   "cell_type": "markdown",
   "source": [
    "# Pandas"
   ],
   "metadata": {
    "collapsed": false
   }
  },
  {
   "cell_type": "markdown",
   "source": [
    "## Task 1\n",
    "\n",
    "You should import the necessary libraries. You will use `numpy` and `pandas` libraries.\n",
    "\n",
    "\n",
    "> Don't forget to import `numpy`, and `pandas` in short form."
   ],
   "metadata": {
    "collapsed": false
   }
  },
  {
   "cell_type": "code",
   "metadata": {
    "collapsed": true,
    "ExecuteTime": {
     "end_time": "2024-09-08T17:14:55.253367Z",
     "start_time": "2024-09-08T17:14:55.249436Z"
    }
   },
   "source": [
    "from datetime import datetime\n",
    "\n",
    "import numpy as np\n",
    "import pandas as pd"
   ],
   "outputs": [],
   "execution_count": 2
  },
  {
   "cell_type": "markdown",
   "source": [
    "## Task 2\n",
    "\n",
    "Create a `DataFrame` from the given dictionary `data`."
   ],
   "metadata": {
    "collapsed": false
   }
  },
  {
   "cell_type": "code",
   "source": [
    "data = {\n",
    "    \"Name\": [\"John\", \"Emily\", \"Ryan\"],\n",
    "    \"Age\": [16, 28, 22],\n",
    "    \"City\": [\"New York\", \"Los Angeles\", \"Chicago\"],\n",
    "}\n",
    "\n",
    "df = pd.DataFrame(data)\n",
    "df"
   ],
   "metadata": {
    "collapsed": false,
    "ExecuteTime": {
     "end_time": "2024-09-08T17:15:32.861186Z",
     "start_time": "2024-09-08T17:15:32.851141Z"
    }
   },
   "outputs": [
    {
     "data": {
      "text/plain": [
       "    Name  Age         City\n",
       "0   John   16     New York\n",
       "1  Emily   28  Los Angeles\n",
       "2   Ryan   22      Chicago"
      ],
      "text/html": [
       "<div>\n",
       "<style scoped>\n",
       "    .dataframe tbody tr th:only-of-type {\n",
       "        vertical-align: middle;\n",
       "    }\n",
       "\n",
       "    .dataframe tbody tr th {\n",
       "        vertical-align: top;\n",
       "    }\n",
       "\n",
       "    .dataframe thead th {\n",
       "        text-align: right;\n",
       "    }\n",
       "</style>\n",
       "<table border=\"1\" class=\"dataframe\">\n",
       "  <thead>\n",
       "    <tr style=\"text-align: right;\">\n",
       "      <th></th>\n",
       "      <th>Name</th>\n",
       "      <th>Age</th>\n",
       "      <th>City</th>\n",
       "    </tr>\n",
       "  </thead>\n",
       "  <tbody>\n",
       "    <tr>\n",
       "      <th>0</th>\n",
       "      <td>John</td>\n",
       "      <td>16</td>\n",
       "      <td>New York</td>\n",
       "    </tr>\n",
       "    <tr>\n",
       "      <th>1</th>\n",
       "      <td>Emily</td>\n",
       "      <td>28</td>\n",
       "      <td>Los Angeles</td>\n",
       "    </tr>\n",
       "    <tr>\n",
       "      <th>2</th>\n",
       "      <td>Ryan</td>\n",
       "      <td>22</td>\n",
       "      <td>Chicago</td>\n",
       "    </tr>\n",
       "  </tbody>\n",
       "</table>\n",
       "</div>"
      ]
     },
     "execution_count": 7,
     "metadata": {},
     "output_type": "execute_result"
    }
   ],
   "execution_count": 7
  },
  {
   "cell_type": "markdown",
   "source": [
    "## Task 3\n",
    "\n",
    "In this task you should complete the following steps:"
   ],
   "metadata": {
    "collapsed": false
   }
  },
  {
   "cell_type": "markdown",
   "source": [
    "### Task 3.1\n",
    "Display all data for `Age` column for the DataFrame you created in the previous task."
   ],
   "metadata": {
    "collapsed": false
   }
  },
  {
   "cell_type": "code",
   "source": "df[\"Age\"]",
   "metadata": {
    "collapsed": false,
    "ExecuteTime": {
     "end_time": "2024-09-08T17:15:17.666675Z",
     "start_time": "2024-09-08T17:15:17.656534Z"
    }
   },
   "outputs": [
    {
     "data": {
      "text/plain": [
       "0    16\n",
       "1    28\n",
       "2    22\n",
       "Name: Age, dtype: int64"
      ]
     },
     "execution_count": 6,
     "metadata": {},
     "output_type": "execute_result"
    }
   ],
   "execution_count": 6
  },
  {
   "cell_type": "markdown",
   "source": [
    "### Task 3.2\n",
    "\n",
    "Add `Salary` column to the `DataFrame` with the values `[50000, 60000, 45000]`."
   ],
   "metadata": {
    "collapsed": false
   }
  },
  {
   "cell_type": "code",
   "source": [
    "df[\"Salary\"] = [50000, 60000, 45000]\n",
    "df"
   ],
   "metadata": {
    "collapsed": false,
    "ExecuteTime": {
     "end_time": "2024-09-08T17:16:11.974589Z",
     "start_time": "2024-09-08T17:16:11.959071Z"
    }
   },
   "outputs": [
    {
     "data": {
      "text/plain": [
       "    Name  Age         City  Salary\n",
       "0   John   16     New York   50000\n",
       "1  Emily   28  Los Angeles   60000\n",
       "2   Ryan   22      Chicago   45000"
      ],
      "text/html": [
       "<div>\n",
       "<style scoped>\n",
       "    .dataframe tbody tr th:only-of-type {\n",
       "        vertical-align: middle;\n",
       "    }\n",
       "\n",
       "    .dataframe tbody tr th {\n",
       "        vertical-align: top;\n",
       "    }\n",
       "\n",
       "    .dataframe thead th {\n",
       "        text-align: right;\n",
       "    }\n",
       "</style>\n",
       "<table border=\"1\" class=\"dataframe\">\n",
       "  <thead>\n",
       "    <tr style=\"text-align: right;\">\n",
       "      <th></th>\n",
       "      <th>Name</th>\n",
       "      <th>Age</th>\n",
       "      <th>City</th>\n",
       "      <th>Salary</th>\n",
       "    </tr>\n",
       "  </thead>\n",
       "  <tbody>\n",
       "    <tr>\n",
       "      <th>0</th>\n",
       "      <td>John</td>\n",
       "      <td>16</td>\n",
       "      <td>New York</td>\n",
       "      <td>50000</td>\n",
       "    </tr>\n",
       "    <tr>\n",
       "      <th>1</th>\n",
       "      <td>Emily</td>\n",
       "      <td>28</td>\n",
       "      <td>Los Angeles</td>\n",
       "      <td>60000</td>\n",
       "    </tr>\n",
       "    <tr>\n",
       "      <th>2</th>\n",
       "      <td>Ryan</td>\n",
       "      <td>22</td>\n",
       "      <td>Chicago</td>\n",
       "      <td>45000</td>\n",
       "    </tr>\n",
       "  </tbody>\n",
       "</table>\n",
       "</div>"
      ]
     },
     "execution_count": 9,
     "metadata": {},
     "output_type": "execute_result"
    }
   ],
   "execution_count": 9
  },
  {
   "cell_type": "markdown",
   "source": [
    "### Task 3.3\n",
    "\n",
    "Filter the `DataFrame` to show only the rows with the `Age` greater than 18."
   ],
   "metadata": {
    "collapsed": false
   }
  },
  {
   "cell_type": "code",
   "source": "df[df[\"Age\"] > 18]",
   "metadata": {
    "collapsed": false,
    "ExecuteTime": {
     "end_time": "2024-09-08T17:18:24.069529Z",
     "start_time": "2024-09-08T17:18:24.061807Z"
    }
   },
   "outputs": [
    {
     "data": {
      "text/plain": [
       "    Name  Age         City  Salary\n",
       "1  Emily   28  Los Angeles   60000\n",
       "2   Ryan   22      Chicago   45000"
      ],
      "text/html": [
       "<div>\n",
       "<style scoped>\n",
       "    .dataframe tbody tr th:only-of-type {\n",
       "        vertical-align: middle;\n",
       "    }\n",
       "\n",
       "    .dataframe tbody tr th {\n",
       "        vertical-align: top;\n",
       "    }\n",
       "\n",
       "    .dataframe thead th {\n",
       "        text-align: right;\n",
       "    }\n",
       "</style>\n",
       "<table border=\"1\" class=\"dataframe\">\n",
       "  <thead>\n",
       "    <tr style=\"text-align: right;\">\n",
       "      <th></th>\n",
       "      <th>Name</th>\n",
       "      <th>Age</th>\n",
       "      <th>City</th>\n",
       "      <th>Salary</th>\n",
       "    </tr>\n",
       "  </thead>\n",
       "  <tbody>\n",
       "    <tr>\n",
       "      <th>1</th>\n",
       "      <td>Emily</td>\n",
       "      <td>28</td>\n",
       "      <td>Los Angeles</td>\n",
       "      <td>60000</td>\n",
       "    </tr>\n",
       "    <tr>\n",
       "      <th>2</th>\n",
       "      <td>Ryan</td>\n",
       "      <td>22</td>\n",
       "      <td>Chicago</td>\n",
       "      <td>45000</td>\n",
       "    </tr>\n",
       "  </tbody>\n",
       "</table>\n",
       "</div>"
      ]
     },
     "execution_count": 13,
     "metadata": {},
     "output_type": "execute_result"
    }
   ],
   "execution_count": 13
  },
  {
   "cell_type": "markdown",
   "source": [
    "## Task 4\n",
    "\n",
    "In this task you should complete the following steps:"
   ],
   "metadata": {
    "collapsed": false
   }
  },
  {
   "cell_type": "markdown",
   "source": [
    "### Task 4.1\n",
    "\n",
    "Add new calculated field `Birth year`;"
   ],
   "metadata": {
    "collapsed": false
   }
  },
  {
   "cell_type": "code",
   "source": [
    "from datetime import datetime\n",
    "\n",
    "\n",
    "df[\"Birth year\"] = datetime.now().year - df[\"Age\"]\n",
    "df"
   ],
   "metadata": {
    "collapsed": false,
    "ExecuteTime": {
     "end_time": "2024-09-08T17:20:13.453241Z",
     "start_time": "2024-09-08T17:20:13.444689Z"
    }
   },
   "outputs": [
    {
     "data": {
      "text/plain": [
       "    Name  Age         City  Salary  Birth year\n",
       "0   John   16     New York   50000        2008\n",
       "1  Emily   28  Los Angeles   60000        1996\n",
       "2   Ryan   22      Chicago   45000        2002"
      ],
      "text/html": [
       "<div>\n",
       "<style scoped>\n",
       "    .dataframe tbody tr th:only-of-type {\n",
       "        vertical-align: middle;\n",
       "    }\n",
       "\n",
       "    .dataframe tbody tr th {\n",
       "        vertical-align: top;\n",
       "    }\n",
       "\n",
       "    .dataframe thead th {\n",
       "        text-align: right;\n",
       "    }\n",
       "</style>\n",
       "<table border=\"1\" class=\"dataframe\">\n",
       "  <thead>\n",
       "    <tr style=\"text-align: right;\">\n",
       "      <th></th>\n",
       "      <th>Name</th>\n",
       "      <th>Age</th>\n",
       "      <th>City</th>\n",
       "      <th>Salary</th>\n",
       "      <th>Birth year</th>\n",
       "    </tr>\n",
       "  </thead>\n",
       "  <tbody>\n",
       "    <tr>\n",
       "      <th>0</th>\n",
       "      <td>John</td>\n",
       "      <td>16</td>\n",
       "      <td>New York</td>\n",
       "      <td>50000</td>\n",
       "      <td>2008</td>\n",
       "    </tr>\n",
       "    <tr>\n",
       "      <th>1</th>\n",
       "      <td>Emily</td>\n",
       "      <td>28</td>\n",
       "      <td>Los Angeles</td>\n",
       "      <td>60000</td>\n",
       "      <td>1996</td>\n",
       "    </tr>\n",
       "    <tr>\n",
       "      <th>2</th>\n",
       "      <td>Ryan</td>\n",
       "      <td>22</td>\n",
       "      <td>Chicago</td>\n",
       "      <td>45000</td>\n",
       "      <td>2002</td>\n",
       "    </tr>\n",
       "  </tbody>\n",
       "</table>\n",
       "</div>"
      ]
     },
     "execution_count": 18,
     "metadata": {},
     "output_type": "execute_result"
    }
   ],
   "execution_count": 18
  },
  {
   "cell_type": "markdown",
   "source": [
    "### Task 4.2\n",
    "\n",
    "Add new calculated field `Average age`."
   ],
   "metadata": {
    "collapsed": false
   }
  },
  {
   "cell_type": "code",
   "source": [
    "average_age = df[\"Age\"].mean()\n",
    "df[\"Average age\"] = average_age\n",
    "df"
   ],
   "metadata": {
    "collapsed": false,
    "ExecuteTime": {
     "end_time": "2024-09-08T17:20:53.512654Z",
     "start_time": "2024-09-08T17:20:53.502657Z"
    }
   },
   "outputs": [
    {
     "data": {
      "text/plain": [
       "    Name  Age         City  Salary  Birth year  Average age\n",
       "0   John   16     New York   50000        2008         22.0\n",
       "1  Emily   28  Los Angeles   60000        1996         22.0\n",
       "2   Ryan   22      Chicago   45000        2002         22.0"
      ],
      "text/html": [
       "<div>\n",
       "<style scoped>\n",
       "    .dataframe tbody tr th:only-of-type {\n",
       "        vertical-align: middle;\n",
       "    }\n",
       "\n",
       "    .dataframe tbody tr th {\n",
       "        vertical-align: top;\n",
       "    }\n",
       "\n",
       "    .dataframe thead th {\n",
       "        text-align: right;\n",
       "    }\n",
       "</style>\n",
       "<table border=\"1\" class=\"dataframe\">\n",
       "  <thead>\n",
       "    <tr style=\"text-align: right;\">\n",
       "      <th></th>\n",
       "      <th>Name</th>\n",
       "      <th>Age</th>\n",
       "      <th>City</th>\n",
       "      <th>Salary</th>\n",
       "      <th>Birth year</th>\n",
       "      <th>Average age</th>\n",
       "    </tr>\n",
       "  </thead>\n",
       "  <tbody>\n",
       "    <tr>\n",
       "      <th>0</th>\n",
       "      <td>John</td>\n",
       "      <td>16</td>\n",
       "      <td>New York</td>\n",
       "      <td>50000</td>\n",
       "      <td>2008</td>\n",
       "      <td>22.0</td>\n",
       "    </tr>\n",
       "    <tr>\n",
       "      <th>1</th>\n",
       "      <td>Emily</td>\n",
       "      <td>28</td>\n",
       "      <td>Los Angeles</td>\n",
       "      <td>60000</td>\n",
       "      <td>1996</td>\n",
       "      <td>22.0</td>\n",
       "    </tr>\n",
       "    <tr>\n",
       "      <th>2</th>\n",
       "      <td>Ryan</td>\n",
       "      <td>22</td>\n",
       "      <td>Chicago</td>\n",
       "      <td>45000</td>\n",
       "      <td>2002</td>\n",
       "      <td>22.0</td>\n",
       "    </tr>\n",
       "  </tbody>\n",
       "</table>\n",
       "</div>"
      ]
     },
     "execution_count": 19,
     "metadata": {},
     "output_type": "execute_result"
    }
   ],
   "execution_count": 19
  },
  {
   "cell_type": "markdown",
   "source": [
    "### Task 4.3\n",
    "\n",
    "Calculate absolute difference between `Age` and `Average age`."
   ],
   "metadata": {
    "collapsed": false
   }
  },
  {
   "cell_type": "code",
   "source": [
    "df[\"Absolute difference\"] = abs(df[\"Average age\"] - df[\"Age\"])\n",
    "df"
   ],
   "metadata": {
    "collapsed": false,
    "ExecuteTime": {
     "end_time": "2024-09-08T17:22:39.578996Z",
     "start_time": "2024-09-08T17:22:39.567335Z"
    }
   },
   "outputs": [
    {
     "data": {
      "text/plain": [
       "    Name  Age         City  Salary  Birth year  Average age  \\\n",
       "0   John   16     New York   50000        2008         22.0   \n",
       "1  Emily   28  Los Angeles   60000        1996         22.0   \n",
       "2   Ryan   22      Chicago   45000        2002         22.0   \n",
       "\n",
       "   Absolute difference  \n",
       "0                  6.0  \n",
       "1                  6.0  \n",
       "2                  0.0  "
      ],
      "text/html": [
       "<div>\n",
       "<style scoped>\n",
       "    .dataframe tbody tr th:only-of-type {\n",
       "        vertical-align: middle;\n",
       "    }\n",
       "\n",
       "    .dataframe tbody tr th {\n",
       "        vertical-align: top;\n",
       "    }\n",
       "\n",
       "    .dataframe thead th {\n",
       "        text-align: right;\n",
       "    }\n",
       "</style>\n",
       "<table border=\"1\" class=\"dataframe\">\n",
       "  <thead>\n",
       "    <tr style=\"text-align: right;\">\n",
       "      <th></th>\n",
       "      <th>Name</th>\n",
       "      <th>Age</th>\n",
       "      <th>City</th>\n",
       "      <th>Salary</th>\n",
       "      <th>Birth year</th>\n",
       "      <th>Average age</th>\n",
       "      <th>Absolute difference</th>\n",
       "    </tr>\n",
       "  </thead>\n",
       "  <tbody>\n",
       "    <tr>\n",
       "      <th>0</th>\n",
       "      <td>John</td>\n",
       "      <td>16</td>\n",
       "      <td>New York</td>\n",
       "      <td>50000</td>\n",
       "      <td>2008</td>\n",
       "      <td>22.0</td>\n",
       "      <td>6.0</td>\n",
       "    </tr>\n",
       "    <tr>\n",
       "      <th>1</th>\n",
       "      <td>Emily</td>\n",
       "      <td>28</td>\n",
       "      <td>Los Angeles</td>\n",
       "      <td>60000</td>\n",
       "      <td>1996</td>\n",
       "      <td>22.0</td>\n",
       "      <td>6.0</td>\n",
       "    </tr>\n",
       "    <tr>\n",
       "      <th>2</th>\n",
       "      <td>Ryan</td>\n",
       "      <td>22</td>\n",
       "      <td>Chicago</td>\n",
       "      <td>45000</td>\n",
       "      <td>2002</td>\n",
       "      <td>22.0</td>\n",
       "      <td>0.0</td>\n",
       "    </tr>\n",
       "  </tbody>\n",
       "</table>\n",
       "</div>"
      ]
     },
     "execution_count": 20,
     "metadata": {},
     "output_type": "execute_result"
    }
   ],
   "execution_count": 20
  },
  {
   "cell_type": "markdown",
   "source": [
    "## Task 5\n",
    "\n",
    "Complete the following tasks described below."
   ],
   "metadata": {
    "collapsed": false
   }
  },
  {
   "cell_type": "markdown",
   "source": [
    "### Task 5.1\n",
    "\n",
    "You have two dictionaries `data1` and `data2`. Create two `DataFrame` objects from these dictionaries. Then, `concatenate`, and `merge` these two `DataFrame` objects into one `DataFrame` object, and see the difference."
   ],
   "metadata": {
    "collapsed": false
   }
  },
  {
   "cell_type": "code",
   "source": [
    "# Data\n",
    "data1 = {'Name': ['John', 'Emily', 'Ryan'],\n",
    "         'Age': [25, 28, 22]}\n",
    "data2 = {'Name': ['Emily', 'Ryan', 'Mike'],\n",
    "         'City': ['Los Angeles', 'Chicago', 'Houston']}\n",
    "\n",
    "df1 = pd.DataFrame(data1)\n",
    "df2 = pd.DataFrame(data2)"
   ],
   "metadata": {
    "collapsed": false,
    "ExecuteTime": {
     "end_time": "2024-09-08T17:24:04.105937Z",
     "start_time": "2024-09-08T17:24:04.100409Z"
    }
   },
   "outputs": [],
   "execution_count": 24
  },
  {
   "cell_type": "code",
   "source": "pd.merge(df1, df2, on=\"Name\")",
   "metadata": {
    "collapsed": false,
    "ExecuteTime": {
     "end_time": "2024-09-08T17:26:16.550696Z",
     "start_time": "2024-09-08T17:26:16.539644Z"
    }
   },
   "outputs": [
    {
     "data": {
      "text/plain": [
       "    Name  Age         City\n",
       "0  Emily   28  Los Angeles\n",
       "1   Ryan   22      Chicago"
      ],
      "text/html": [
       "<div>\n",
       "<style scoped>\n",
       "    .dataframe tbody tr th:only-of-type {\n",
       "        vertical-align: middle;\n",
       "    }\n",
       "\n",
       "    .dataframe tbody tr th {\n",
       "        vertical-align: top;\n",
       "    }\n",
       "\n",
       "    .dataframe thead th {\n",
       "        text-align: right;\n",
       "    }\n",
       "</style>\n",
       "<table border=\"1\" class=\"dataframe\">\n",
       "  <thead>\n",
       "    <tr style=\"text-align: right;\">\n",
       "      <th></th>\n",
       "      <th>Name</th>\n",
       "      <th>Age</th>\n",
       "      <th>City</th>\n",
       "    </tr>\n",
       "  </thead>\n",
       "  <tbody>\n",
       "    <tr>\n",
       "      <th>0</th>\n",
       "      <td>Emily</td>\n",
       "      <td>28</td>\n",
       "      <td>Los Angeles</td>\n",
       "    </tr>\n",
       "    <tr>\n",
       "      <th>1</th>\n",
       "      <td>Ryan</td>\n",
       "      <td>22</td>\n",
       "      <td>Chicago</td>\n",
       "    </tr>\n",
       "  </tbody>\n",
       "</table>\n",
       "</div>"
      ]
     },
     "execution_count": 28,
     "metadata": {},
     "output_type": "execute_result"
    }
   ],
   "execution_count": 28
  },
  {
   "cell_type": "code",
   "source": "pd.concat([df1, df2])",
   "metadata": {
    "collapsed": false,
    "ExecuteTime": {
     "end_time": "2024-09-08T17:26:19.040159Z",
     "start_time": "2024-09-08T17:26:19.030160Z"
    }
   },
   "outputs": [
    {
     "data": {
      "text/plain": [
       "    Name   Age         City\n",
       "0   John  25.0          NaN\n",
       "1  Emily  28.0          NaN\n",
       "2   Ryan  22.0          NaN\n",
       "0  Emily   NaN  Los Angeles\n",
       "1   Ryan   NaN      Chicago\n",
       "2   Mike   NaN      Houston"
      ],
      "text/html": [
       "<div>\n",
       "<style scoped>\n",
       "    .dataframe tbody tr th:only-of-type {\n",
       "        vertical-align: middle;\n",
       "    }\n",
       "\n",
       "    .dataframe tbody tr th {\n",
       "        vertical-align: top;\n",
       "    }\n",
       "\n",
       "    .dataframe thead th {\n",
       "        text-align: right;\n",
       "    }\n",
       "</style>\n",
       "<table border=\"1\" class=\"dataframe\">\n",
       "  <thead>\n",
       "    <tr style=\"text-align: right;\">\n",
       "      <th></th>\n",
       "      <th>Name</th>\n",
       "      <th>Age</th>\n",
       "      <th>City</th>\n",
       "    </tr>\n",
       "  </thead>\n",
       "  <tbody>\n",
       "    <tr>\n",
       "      <th>0</th>\n",
       "      <td>John</td>\n",
       "      <td>25.0</td>\n",
       "      <td>NaN</td>\n",
       "    </tr>\n",
       "    <tr>\n",
       "      <th>1</th>\n",
       "      <td>Emily</td>\n",
       "      <td>28.0</td>\n",
       "      <td>NaN</td>\n",
       "    </tr>\n",
       "    <tr>\n",
       "      <th>2</th>\n",
       "      <td>Ryan</td>\n",
       "      <td>22.0</td>\n",
       "      <td>NaN</td>\n",
       "    </tr>\n",
       "    <tr>\n",
       "      <th>0</th>\n",
       "      <td>Emily</td>\n",
       "      <td>NaN</td>\n",
       "      <td>Los Angeles</td>\n",
       "    </tr>\n",
       "    <tr>\n",
       "      <th>1</th>\n",
       "      <td>Ryan</td>\n",
       "      <td>NaN</td>\n",
       "      <td>Chicago</td>\n",
       "    </tr>\n",
       "    <tr>\n",
       "      <th>2</th>\n",
       "      <td>Mike</td>\n",
       "      <td>NaN</td>\n",
       "      <td>Houston</td>\n",
       "    </tr>\n",
       "  </tbody>\n",
       "</table>\n",
       "</div>"
      ]
     },
     "execution_count": 29,
     "metadata": {},
     "output_type": "execute_result"
    }
   ],
   "execution_count": 29
  },
  {
   "cell_type": "markdown",
   "source": [
    "### Task 5.2\n",
    "\n",
    "You have two `Series` objects `s1` and `s2`. Make default mathematical operations on these two `Series` objects. Such as `+`, `-`, `*`, `/`, `**`, `//`, `%`. Also, filter `s1` and print only even numbers, and `s2` only with odd numbers.\n"
   ],
   "metadata": {
    "collapsed": false
   }
  },
  {
   "cell_type": "code",
   "source": [
    "s1 = pd.Series([1, 2, 3, 4, 5])\n",
    "s2 = pd.Series([6, 7, 8, 9, 10])"
   ],
   "metadata": {
    "collapsed": false,
    "ExecuteTime": {
     "end_time": "2024-09-08T17:26:38.369979Z",
     "start_time": "2024-09-08T17:26:38.365978Z"
    }
   },
   "outputs": [],
   "execution_count": 31
  },
  {
   "cell_type": "code",
   "source": "s1 + s2",
   "metadata": {
    "collapsed": false,
    "ExecuteTime": {
     "end_time": "2024-09-08T17:26:39.287854Z",
     "start_time": "2024-09-08T17:26:39.279317Z"
    }
   },
   "outputs": [
    {
     "data": {
      "text/plain": [
       "0     7\n",
       "1     9\n",
       "2    11\n",
       "3    13\n",
       "4    15\n",
       "dtype: int64"
      ]
     },
     "execution_count": 32,
     "metadata": {},
     "output_type": "execute_result"
    }
   ],
   "execution_count": 32
  },
  {
   "cell_type": "code",
   "source": "s1 - s2",
   "metadata": {
    "collapsed": false,
    "ExecuteTime": {
     "end_time": "2024-09-08T17:26:51.837999Z",
     "start_time": "2024-09-08T17:26:51.831100Z"
    }
   },
   "outputs": [
    {
     "data": {
      "text/plain": [
       "0   -5\n",
       "1   -5\n",
       "2   -5\n",
       "3   -5\n",
       "4   -5\n",
       "dtype: int64"
      ]
     },
     "execution_count": 33,
     "metadata": {},
     "output_type": "execute_result"
    }
   ],
   "execution_count": 33
  },
  {
   "cell_type": "code",
   "source": "s1 * s2",
   "metadata": {
    "collapsed": false,
    "ExecuteTime": {
     "end_time": "2024-09-08T17:26:57.398785Z",
     "start_time": "2024-09-08T17:26:57.392268Z"
    }
   },
   "outputs": [
    {
     "data": {
      "text/plain": [
       "0     6\n",
       "1    14\n",
       "2    24\n",
       "3    36\n",
       "4    50\n",
       "dtype: int64"
      ]
     },
     "execution_count": 34,
     "metadata": {},
     "output_type": "execute_result"
    }
   ],
   "execution_count": 34
  },
  {
   "cell_type": "code",
   "source": "s1 / s2",
   "metadata": {
    "collapsed": false,
    "ExecuteTime": {
     "end_time": "2024-09-08T17:27:01.884403Z",
     "start_time": "2024-09-08T17:27:01.877330Z"
    }
   },
   "outputs": [
    {
     "data": {
      "text/plain": [
       "0    0.166667\n",
       "1    0.285714\n",
       "2    0.375000\n",
       "3    0.444444\n",
       "4    0.500000\n",
       "dtype: float64"
      ]
     },
     "execution_count": 35,
     "metadata": {},
     "output_type": "execute_result"
    }
   ],
   "execution_count": 35
  },
  {
   "cell_type": "code",
   "source": "s1 ** s2",
   "metadata": {
    "collapsed": false,
    "ExecuteTime": {
     "end_time": "2024-09-08T17:27:06.518902Z",
     "start_time": "2024-09-08T17:27:06.511960Z"
    }
   },
   "outputs": [
    {
     "data": {
      "text/plain": [
       "0          1\n",
       "1        128\n",
       "2       6561\n",
       "3     262144\n",
       "4    9765625\n",
       "dtype: int64"
      ]
     },
     "execution_count": 36,
     "metadata": {},
     "output_type": "execute_result"
    }
   ],
   "execution_count": 36
  },
  {
   "cell_type": "code",
   "source": "s1 // s2",
   "metadata": {
    "collapsed": false,
    "ExecuteTime": {
     "end_time": "2024-09-08T17:27:12.048928Z",
     "start_time": "2024-09-08T17:27:12.041931Z"
    }
   },
   "outputs": [
    {
     "data": {
      "text/plain": [
       "0    0\n",
       "1    0\n",
       "2    0\n",
       "3    0\n",
       "4    0\n",
       "dtype: int64"
      ]
     },
     "execution_count": 37,
     "metadata": {},
     "output_type": "execute_result"
    }
   ],
   "execution_count": 37
  },
  {
   "cell_type": "code",
   "source": "s1 % s2",
   "metadata": {
    "collapsed": false,
    "ExecuteTime": {
     "end_time": "2024-09-08T17:27:16.787377Z",
     "start_time": "2024-09-08T17:27:16.780897Z"
    }
   },
   "outputs": [
    {
     "data": {
      "text/plain": [
       "0    1\n",
       "1    2\n",
       "2    3\n",
       "3    4\n",
       "4    5\n",
       "dtype: int64"
      ]
     },
     "execution_count": 38,
     "metadata": {},
     "output_type": "execute_result"
    }
   ],
   "execution_count": 38
  },
  {
   "cell_type": "code",
   "source": "s1[s1 % 2 == 0]",
   "metadata": {
    "collapsed": false,
    "ExecuteTime": {
     "end_time": "2024-09-08T17:27:34.632171Z",
     "start_time": "2024-09-08T17:27:34.624858Z"
    }
   },
   "outputs": [
    {
     "data": {
      "text/plain": [
       "1    2\n",
       "3    4\n",
       "dtype: int64"
      ]
     },
     "execution_count": 39,
     "metadata": {},
     "output_type": "execute_result"
    }
   ],
   "execution_count": 39
  },
  {
   "cell_type": "code",
   "source": "s1[s1 % 2 == 1]",
   "metadata": {
    "collapsed": false,
    "ExecuteTime": {
     "end_time": "2024-09-08T17:27:36.315498Z",
     "start_time": "2024-09-08T17:27:36.309498Z"
    }
   },
   "outputs": [
    {
     "data": {
      "text/plain": [
       "0    1\n",
       "2    3\n",
       "4    5\n",
       "dtype: int64"
      ]
     },
     "execution_count": 40,
     "metadata": {},
     "output_type": "execute_result"
    }
   ],
   "execution_count": 40
  },
  {
   "cell_type": "markdown",
   "source": [
    "### Task 5.3\n",
    "\n",
    "You have a `Serias` object `s`. Make the following operations on this `Series` object:\n",
    "\n",
    "* make all words in uppercase without loops;\n",
    "* get length of each word without loops.\n"
   ],
   "metadata": {
    "collapsed": false
   }
  },
  {
   "cell_type": "code",
   "source": [
    "s = pd.Series([\"numpy\", \"pandas\", \"matplotlib\"])"
   ],
   "metadata": {
    "collapsed": false,
    "ExecuteTime": {
     "end_time": "2024-09-08T17:29:36.926712Z",
     "start_time": "2024-09-08T17:29:36.921359Z"
    }
   },
   "outputs": [],
   "execution_count": 42
  },
  {
   "cell_type": "code",
   "source": "s.str.upper()",
   "metadata": {
    "collapsed": false,
    "ExecuteTime": {
     "end_time": "2024-09-08T17:29:37.716302Z",
     "start_time": "2024-09-08T17:29:37.708507Z"
    }
   },
   "outputs": [
    {
     "data": {
      "text/plain": [
       "0         NUMPY\n",
       "1        PANDAS\n",
       "2    MATPLOTLIB\n",
       "dtype: object"
      ]
     },
     "execution_count": 43,
     "metadata": {},
     "output_type": "execute_result"
    }
   ],
   "execution_count": 43
  },
  {
   "cell_type": "code",
   "source": "s.str.len()",
   "metadata": {
    "collapsed": false,
    "ExecuteTime": {
     "end_time": "2024-09-08T17:29:45.902428Z",
     "start_time": "2024-09-08T17:29:45.895946Z"
    }
   },
   "outputs": [
    {
     "data": {
      "text/plain": [
       "0     5\n",
       "1     6\n",
       "2    10\n",
       "dtype: int64"
      ]
     },
     "execution_count": 44,
     "metadata": {},
     "output_type": "execute_result"
    }
   ],
   "execution_count": 44
  },
  {
   "cell_type": "markdown",
   "source": [
    "## Task 6 Optional\n",
    "\n",
    "You have a large dataset consisting of a series of numbers. Your task is to calculate the moving average of the series using a window of `5` elements. The moving average is the average of a set of consecutive values in the series, where the window `slides` through the series to compute the average at each position. The goal is to calculate the moving average efficiently and accurately. Also, compare time performance of Python and Pandas solutions.\n",
    "\n",
    "> Please, note: If you get `nan` while calculating the moving average, you should remove it from the result. Pandas solution should take 1-2 lines of code.\n"
   ],
   "metadata": {
    "collapsed": false
   }
  },
  {
   "cell_type": "markdown",
   "source": [
    "### Python Solution\n",
    "\n",
    "In the Python solution, a large dataset is generated using random numbers. The moving average is computed by iterating over the dataset using a loop. At each position, a window of 5 elements is created, and the average is calculated by summing the values in the window and dividing by 5."
   ],
   "metadata": {
    "collapsed": false
   }
  },
  {
   "cell_type": "code",
   "source": [
    "import random\n",
    "\n",
    "def unknown_signature():\n",
    "    # Generate a large dataset\n",
    "    data = [random.randint(1, 100) for _ in range(10000000)]\n",
    "\n",
    "    # Calculate the moving average with a window of 5\n",
    "    moving_averages = []\n",
    "    for i in range(4, len(data)):\n",
    "        window = data[i - 4 : i + 1]\n",
    "        average = sum(window) / 5\n",
    "        moving_averages.append(average)\n",
    "    return moving_averages[:10]\n",
    "\n",
    "%time unknown_signature()"
   ],
   "metadata": {
    "collapsed": false,
    "ExecuteTime": {
     "end_time": "2024-09-08T17:33:35.537389Z",
     "start_time": "2024-09-08T17:33:26.792139Z"
    }
   },
   "outputs": [
    {
     "name": "stdout",
     "output_type": "stream",
     "text": [
      "CPU times: total: 8.34 s\n",
      "Wall time: 8.74 s\n"
     ]
    },
    {
     "data": {
      "text/plain": [
       "[64.0, 59.2, 55.4, 46.0, 41.0, 50.2, 51.8, 53.2, 53.4, 64.2]"
      ]
     },
     "execution_count": 48,
     "metadata": {},
     "output_type": "execute_result"
    }
   ],
   "execution_count": 48
  },
  {
   "cell_type": "markdown",
   "source": [
    "### Solution using Pandas and Numpy\n"
   ],
   "metadata": {
    "collapsed": false
   }
  },
  {
   "cell_type": "code",
   "source": [
    "def optimized_signature():\n",
    "    series = pd.Series(\n",
    "        np.random.randint(1, 100, size=10000000)\n",
    "    )\n",
    "\n",
    "    moving_averages = series.rolling(window=5).mean()\n",
    "    \n",
    "    return moving_averages.dropna().head(10).tolist()\n",
    "\n",
    "%time optimized_signature()"
   ],
   "metadata": {
    "collapsed": false,
    "ExecuteTime": {
     "end_time": "2024-09-08T17:35:13.259829Z",
     "start_time": "2024-09-08T17:35:12.793959Z"
    }
   },
   "outputs": [
    {
     "name": "stdout",
     "output_type": "stream",
     "text": [
      "CPU times: total: 469 ms\n",
      "Wall time: 459 ms\n"
     ]
    },
    {
     "data": {
      "text/plain": [
       "[49.8, 46.8, 58.2, 51.2, 45.2, 38.4, 36.2, 23.6, 29.2, 30.8]"
      ]
     },
     "execution_count": 51,
     "metadata": {},
     "output_type": "execute_result"
    }
   ],
   "execution_count": 51
  }
 ],
 "metadata": {
  "kernelspec": {
   "display_name": "Python 3",
   "language": "python",
   "name": "python3"
  },
  "language_info": {
   "codemirror_mode": {
    "name": "ipython",
    "version": 2
   },
   "file_extension": ".py",
   "mimetype": "text/x-python",
   "name": "python",
   "nbconvert_exporter": "python",
   "pygments_lexer": "ipython2",
   "version": "2.7.6"
  }
 },
 "nbformat": 4,
 "nbformat_minor": 0
}
